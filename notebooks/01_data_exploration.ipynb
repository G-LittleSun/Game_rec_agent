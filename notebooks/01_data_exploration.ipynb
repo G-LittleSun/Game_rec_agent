{
 "cells": [
  {
   "cell_type": "markdown",
   "id": "23da614f",
   "metadata": {},
   "source": [
    "# 数据探索（占位）\n",
    "本 Notebook 用于探索游戏数据、标签分布、平台、评分等概况；仅包含用途说明，不包含具体实现。"
   ]
  },
  {
   "cell_type": "markdown",
   "id": "a5640462",
   "metadata": {},
   "source": [
    "# 数据探索（占位）\n",
    "说明：用于探索游戏数据、标签分布、平台、评分等概况。"
   ]
  }
 ],
 "metadata": {
  "language_info": {
   "name": "python"
  }
 },
 "nbformat": 4,
 "nbformat_minor": 5
}
